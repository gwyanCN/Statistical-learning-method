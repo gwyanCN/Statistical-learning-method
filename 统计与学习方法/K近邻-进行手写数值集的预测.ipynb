{
 "cells": [
  {
   "cell_type": "markdown",
   "id": "bd0c1223",
   "metadata": {},
   "source": [
    "### knn的思想:将样本与所有的标签数据进行距离运算取其中距离最小的一个样本点\n",
    "##### 准确率95.65%"
   ]
  },
  {
   "cell_type": "code",
   "execution_count": 1,
   "id": "190330fb",
   "metadata": {},
   "outputs": [],
   "source": [
    "import numpy as np\n",
    "import pandas as pd\n",
    "import math\n",
    "import matplotlib.pyplot as plt\n",
    "from tqdm import tqdm_notebook as tqdm"
   ]
  },
  {
   "cell_type": "code",
   "execution_count": 2,
   "id": "5eb64bd6",
   "metadata": {},
   "outputs": [],
   "source": [
    "trainDatapd = pd.read_csv(\"trainData.csv\")\n",
    "trainData = trainDatapd.iloc[:,1:]\n",
    "trainlabels = trainDatapd.iloc[:,0]"
   ]
  },
  {
   "cell_type": "code",
   "execution_count": 43,
   "id": "066e62ba",
   "metadata": {},
   "outputs": [],
   "source": [
    "testDatapd = pd.read_csv(\"testData.csv\")\n",
    "testData = testDatapd.iloc[:,1:]\n",
    "testlabels = testDatapd.iloc[:,0]"
   ]
  },
  {
   "cell_type": "code",
   "execution_count": 44,
   "id": "dc248cdb",
   "metadata": {},
   "outputs": [],
   "source": [
    "trainDataArr = np.array(trainData)\n",
    "trainlabelsArr = np.array(trainlabels)\n",
    "testDataArr = np.array(testData)\n",
    "testlabelsArr = np.array(testlabels)"
   ]
  },
  {
   "cell_type": "code",
   "execution_count": 5,
   "id": "e6c7a5aa",
   "metadata": {},
   "outputs": [
    {
     "name": "stderr",
     "output_type": "stream",
     "text": [
      "C:\\Users\\YGW\\AppData\\Local\\Temp/ipykernel_20124/1708855409.py:1: TqdmDeprecationWarning: This function will be removed in tqdm==5.0.0\n",
      "Please use `tqdm.notebook.tqdm` instead of `tqdm.tqdm_notebook`\n",
      "  with tqdm(total=testDataArr[:2000,:].shape[0]) as testbar:\n"
     ]
    },
    {
     "data": {
      "application/vnd.jupyter.widget-view+json": {
       "model_id": "d511fe1fbc7144dea78d64e48e77b27f",
       "version_major": 2,
       "version_minor": 0
      },
      "text/plain": [
       "  0%|          | 0/2000 [00:00<?, ?it/s]"
      ]
     },
     "metadata": {},
     "output_type": "display_data"
    }
   ],
   "source": [
    "# 由于每次都需要和60000个标签数据进行距离比较,因此计算较慢\n",
    "with tqdm(total=testDataArr[:2000,:].shape[0]) as testbar:\n",
    "    labelsPre=[]\n",
    "    for vector in testDataArr[:2000,:]:##取头2000个数据\n",
    "        label = trainlabelsArr[np.argmin(np.linalg.norm([vector-trainDataArr],ord=2,axis=2,keepdims=False))] # 将样本的所有特征点与训练数据对应的所有特征点进行二范数距离运算(欧式距离)\n",
    "        labelsPre.append(label)\n",
    "        testbar.update(1)\n",
    "        testbar.set_postfix({\"predict:\":labelsPre})"
   ]
  },
  {
   "cell_type": "code",
   "execution_count": 46,
   "id": "48bd2732",
   "metadata": {},
   "outputs": [],
   "source": [
    "labelsPre=np.array(labelsPre).reshape(1,-1)\n",
    "testlabelsArr = testlabelsArr[:2000].reshape(1,-1)"
   ]
  },
  {
   "cell_type": "code",
   "execution_count": 51,
   "id": "7698bd97",
   "metadata": {},
   "outputs": [
    {
     "data": {
      "text/plain": [
       "95.65"
      ]
     },
     "execution_count": 51,
     "metadata": {},
     "output_type": "execute_result"
    }
   ],
   "source": [
    "(np.sum(labelsPre==testlabelsArr)/labelsPre.shape[1])*100 ###计算准确率"
   ]
  },
  {
   "cell_type": "code",
   "execution_count": null,
   "id": "0f2c1802",
   "metadata": {},
   "outputs": [],
   "source": []
  },
  {
   "cell_type": "code",
   "execution_count": null,
   "id": "440b5933",
   "metadata": {},
   "outputs": [],
   "source": []
  },
  {
   "cell_type": "code",
   "execution_count": null,
   "id": "7eb35f0c",
   "metadata": {},
   "outputs": [],
   "source": []
  }
 ],
 "metadata": {
  "kernelspec": {
   "display_name": "Python [conda env:pytorch]",
   "language": "python",
   "name": "conda-env-pytorch-py"
  },
  "language_info": {
   "codemirror_mode": {
    "name": "ipython",
    "version": 3
   },
   "file_extension": ".py",
   "mimetype": "text/x-python",
   "name": "python",
   "nbconvert_exporter": "python",
   "pygments_lexer": "ipython3",
   "version": "3.8.11"
  }
 },
 "nbformat": 4,
 "nbformat_minor": 5
}
