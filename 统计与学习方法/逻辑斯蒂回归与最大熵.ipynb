{
 "cells": [
  {
   "cell_type": "code",
   "execution_count": 1,
   "id": "98f39b4e",
   "metadata": {},
   "outputs": [
    {
     "name": "stderr",
     "output_type": "stream",
     "text": [
      "C:\\Users\\YGW\\anaconda3\\envs\\pytorch\\lib\\site-packages\\numpy\\_distributor_init.py:30: UserWarning: loaded more than 1 DLL from .libs:\n",
      "C:\\Users\\YGW\\anaconda3\\envs\\pytorch\\lib\\site-packages\\numpy\\.libs\\libopenblas.EL2C6PLE4ZYW3ECEVIV3OXXGRN2NRFM2.gfortran-win_amd64.dll\n",
      "C:\\Users\\YGW\\anaconda3\\envs\\pytorch\\lib\\site-packages\\numpy\\.libs\\libopenblas.XWYDX2IKJW2NMTWSFYNGFUWKQU3LYTCZ.gfortran-win_amd64.dll\n",
      "  warnings.warn(\"loaded more than 1 DLL from .libs:\"\n",
      "C:\\Users\\YGW\\anaconda3\\envs\\pytorch\\lib\\site-packages\\numpy\\_distributor_init.py:30: UserWarning: loaded more than 1 DLL from .libs:\n",
      "C:\\Users\\YGW\\anaconda3\\envs\\pytorch\\lib\\site-packages\\numpy\\.libs\\libopenblas.EL2C6PLE4ZYW3ECEVIV3OXXGRN2NRFM2.gfortran-win_amd64.dll\n",
      "C:\\Users\\YGW\\anaconda3\\envs\\pytorch\\lib\\site-packages\\numpy\\.libs\\libopenblas.XWYDX2IKJW2NMTWSFYNGFUWKQU3LYTCZ.gfortran-win_amd64.dll\n",
      "  warnings.warn(\"loaded more than 1 DLL from .libs:\"\n"
     ]
    }
   ],
   "source": [
    "import numpy as np\n",
    "import pandas as pd\n",
    "from tqdm import tqdm_notebook as tqdm"
   ]
  },
  {
   "cell_type": "markdown",
   "id": "3595f4d6",
   "metadata": {},
   "source": [
    "### 利用逻辑斯蒂回归进行手写数字集的二值标签预测\n",
    "#### 其中将大于等于5的标签设置为1，小于5的标签设置为0\n",
    "#### 准确率:86.72-----(20次迭代)"
   ]
  },
  {
   "cell_type": "code",
   "execution_count": 2,
   "id": "393bc749",
   "metadata": {},
   "outputs": [],
   "source": [
    "trainData = np.array(pd.read_csv(\"trainData.csv\").iloc[:,1:])\n",
    "trainlabel = np.array(pd.read_csv(\"trainData.csv\").iloc[:,0])\n",
    "testData = np.array(pd.read_csv(\"testData.csv\").iloc[:,1:])\n",
    "testlabel = np.array(pd.read_csv(\"testData.csv\").iloc[:,0])"
   ]
  },
  {
   "cell_type": "code",
   "execution_count": 3,
   "id": "06286f8b",
   "metadata": {},
   "outputs": [],
   "source": [
    "trainlabel[trainlabel<5]=0\n",
    "trainlabel[trainlabel>=5]=1\n",
    "testlabel[testlabel<5]=0\n",
    "testlabel[testlabel>=5]=1"
   ]
  },
  {
   "cell_type": "code",
   "execution_count": 4,
   "id": "0ad49ac2",
   "metadata": {},
   "outputs": [],
   "source": [
    "def Logistic_regression(trainData,trainlabel,w,b,iters=200):\n",
    "    lr= 0.001\n",
    "    for j in range(iters):\n",
    "        with tqdm(total=trainData.shape[0]) as bar:\n",
    "            for i in range(trainData.shape[0]):\n",
    "                yi=trainlabel[i]\n",
    "                xi=trainData[i]\n",
    "                w+=lr*(yi*trainData[i]-(np.exp(np.dot(w,trainData[i])+b)*trainData[i])/(1+np.exp(np.dot(w,trainData[i])+b)))\n",
    "                b+=lr*(yi-np.exp(np.dot(w,trainData[i])+b)/(1+np.exp(np.dot(w,trainData[i])+b)))\n",
    "                bar.update(1)\n",
    "                bar.set_postfix({\"w\":w,\"b\":b})\n",
    "    return w,b"
   ]
  },
  {
   "cell_type": "code",
   "execution_count": null,
   "id": "a6a5db61",
   "metadata": {
    "scrolled": true
   },
   "outputs": [
    {
     "name": "stderr",
     "output_type": "stream",
     "text": [
      "C:\\Users\\YGW\\AppData\\Local\\Temp/ipykernel_6584/1845523492.py:4: TqdmDeprecationWarning: This function will be removed in tqdm==5.0.0\n",
      "Please use `tqdm.notebook.tqdm` instead of `tqdm.tqdm_notebook`\n",
      "  with tqdm(total=trainData.shape[0]) as bar:\n"
     ]
    },
    {
     "data": {
      "application/vnd.jupyter.widget-view+json": {
       "model_id": "1774e1ff34044fb98d27ffa097893a8f",
       "version_major": 2,
       "version_minor": 0
      },
      "text/plain": [
       "  0%|          | 0/60000 [00:00<?, ?it/s]"
      ]
     },
     "metadata": {},
     "output_type": "display_data"
    }
   ],
   "source": [
    "w=np.zeros(trainData.shape[1])\n",
    "b=np.zeros(1)\n",
    "w,b=Logistic_regression(trainData,trainlabel,w,b)"
   ]
  },
  {
   "cell_type": "code",
   "execution_count": 19,
   "id": "5fea856f",
   "metadata": {},
   "outputs": [],
   "source": [
    "def modest(testData,testlabel,w,b):\n",
    "    py1_x = np.exp(np.dot(testData,w)+b)/(1+np.exp(np.dot(testData,w)+b))\n",
    "    py0_x = 1-py1_x\n",
    "    prelabel  = np.argmax(np.hstack([py0_x.reshape(-1,1),py1_x.reshape(-1,1)]),axis=1)\n",
    "    return prelabel"
   ]
  },
  {
   "cell_type": "code",
   "execution_count": 28,
   "id": "89c80cfe",
   "metadata": {},
   "outputs": [
    {
     "data": {
      "text/plain": [
       "86.72"
      ]
     },
     "execution_count": 28,
     "metadata": {},
     "output_type": "execute_result"
    },
    {
     "data": {
      "text/plain": [
       "86.72"
      ]
     },
     "execution_count": 28,
     "metadata": {},
     "output_type": "execute_result"
    }
   ],
   "source": [
    "#准确率\n",
    "inferLabel = modest(testData,testlabel,w,b)\n",
    "100*np.sum(inferLabel==testlabel)/inferLabel.shape[0]"
   ]
  },
  {
   "cell_type": "code",
   "execution_count": null,
   "id": "01a473e8",
   "metadata": {},
   "outputs": [],
   "source": []
  },
  {
   "cell_type": "code",
   "execution_count": null,
   "id": "9cd7ecb7",
   "metadata": {},
   "outputs": [],
   "source": []
  },
  {
   "cell_type": "code",
   "execution_count": null,
   "id": "04b292b2",
   "metadata": {},
   "outputs": [],
   "source": []
  }
 ],
 "metadata": {
  "kernelspec": {
   "display_name": "Python [conda env:pytorch]",
   "language": "python",
   "name": "conda-env-pytorch-py"
  },
  "language_info": {
   "codemirror_mode": {
    "name": "ipython",
    "version": 3
   },
   "file_extension": ".py",
   "mimetype": "text/x-python",
   "name": "python",
   "nbconvert_exporter": "python",
   "pygments_lexer": "ipython3",
   "version": "3.8.11"
  }
 },
 "nbformat": 4,
 "nbformat_minor": 5
}
