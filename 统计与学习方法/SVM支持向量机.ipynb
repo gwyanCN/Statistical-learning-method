{
 "cells": [
  {
   "cell_type": "markdown",
   "id": "4197a35a",
   "metadata": {},
   "source": [
    "## SVM进行二分类手写数字集的分类(标签为0和标签不为0)\n",
    "### 准确率98.03%"
   ]
  },
  {
   "cell_type": "code",
   "execution_count": 29,
   "id": "b430b78c",
   "metadata": {
    "scrolled": true
   },
   "outputs": [],
   "source": [
    "import numpy as np\n",
    "import pandas as pd\n",
    "import plotly.express as px\n",
    "from tqdm import tqdm_notebook as tqdm"
   ]
  },
  {
   "cell_type": "code",
   "execution_count": 30,
   "id": "2ffb96d9",
   "metadata": {},
   "outputs": [],
   "source": [
    "trainData = np.array(pd.read_csv(\"trainData.csv\").iloc[:,1:])\n",
    "trainlabel = np.array(pd.read_csv(\"trainData.csv\").iloc[:,0])\n",
    "testData = np.array(pd.read_csv(\"testData.csv\").iloc[:,1:])\n",
    "testlabel = np.array(pd.read_csv(\"testData.csv\").iloc[:,0])\n",
    "trainlabel[trainlabel>0]=1;trainlabel[trainlabel==0]=-1\n",
    "testlabel[testlabel>0]=1;testlabel[testlabel==0]=-1"
   ]
  },
  {
   "cell_type": "code",
   "execution_count": 31,
   "id": "ce8b1aa4",
   "metadata": {},
   "outputs": [
    {
     "data": {
      "text/plain": [
       "((60000, 784), (10000, 784), (60000,), (10000,))"
      ]
     },
     "execution_count": 31,
     "metadata": {},
     "output_type": "execute_result"
    }
   ],
   "source": [
    "trainData.shape,testData.shape,trainlabel.shape,testlabel.shape"
   ]
  },
  {
   "cell_type": "code",
   "execution_count": 32,
   "id": "fcc56c06",
   "metadata": {},
   "outputs": [],
   "source": [
    "class SVM():\n",
    "    def __init__(self,trainData,trainlabel,C=100,iters=300,sigma=10,toler=0.001):\n",
    "        self.num = trainData.shape[0]#获得总样本值\n",
    "        self.sigma = sigma\n",
    "        self.trainData=trainData\n",
    "        self.trainlabel=trainlabel   \n",
    "        self.Kij = self.calKernel(trainData)\n",
    "        self.AlphaJ = [0]*trainData.shape[0]### 初始化所有的ai点\n",
    "        self.bias = 0\n",
    "        self.C = C\n",
    "        self.iters = iters\n",
    "        self.suportVector = []\n",
    "        self.toler=toler\n",
    "        \n",
    "    def calGuassion(self,xi,trainData):\n",
    "        Ki = np.exp(-np.linalg.norm([xi-trainData],axis=2,ord=2)/(2*self.sigma**2))\n",
    "        return Ki\n",
    "    \n",
    "    def calKernel(self,trainData): #计算高斯核\n",
    "        K = np.zeros((trainData.shape[0],trainData.shape[0]),np.float32)\n",
    "        with tqdm(total=trainData.shape[0]) as bar:\n",
    "            for i in range(trainData.shape[0]):\n",
    "                xi=trainData[i].reshape(1,-1) ###784列的向量\n",
    "                Ki = self.calGuassion(xi,self.trainData)\n",
    "                K[i]=Ki\n",
    "                bar.update(1)\n",
    "                bar.set_postfix({\"kernel\":Ki})\n",
    "        return K\n",
    "    \n",
    "    def calGxi(self,index):### 计算gxi\n",
    "        AjYj=np.array(self.AlphaJ)*self.trainlabel\n",
    "        gxi = np.dot(AjYj,self.Kij[index])+self.bias\n",
    "        return gxi\n",
    "    \n",
    "    def calGuassKernel(self,x1,x2):\n",
    "        return  np.exp(-np.linalg.norm([x1-x2],axis=2,ord=2)/(2*self.sigma**2))\n",
    "    \n",
    "    def isSatisfyKKT(self,index): ### 判断该优化点是否满足KKT条件\n",
    "        yi = self.trainlabel[index]\n",
    "        gxi = self.calGxi(index)\n",
    "        ai = self.AlphaJ[index]\n",
    "        if -self.toler<=ai<=self.toler and yi*gxi>=1:\n",
    "            return True\n",
    "        elif self.toler<ai<self.C and yi*gxi==1:\n",
    "            return True\n",
    "        elif self.C<=ai<=self.C+self.toler and yi*gxi<=1:\n",
    "            return True\n",
    "        return False\n",
    "    \n",
    "    def calEi(self,index):#\n",
    "        gxi=self.calGxi(index)\n",
    "        yi = self.trainlabel[index]\n",
    "        return gxi-yi\n",
    "        \n",
    "    def findE2(self,E1):\n",
    "        Ei=np.zeros(self.trainData.shape[0])\n",
    "        for i in range(self.trainData.shape[0]):\n",
    "            Ei[i]=self.calEi(i) ### 计算每个Ei值\n",
    "        alpha2_index=np.argmax(np.abs(E1-Ei))\n",
    "        E2= Ei[alpha2_index]\n",
    "        return alpha2_index,E2\n",
    "        \n",
    "    def train(self):\n",
    "        ### smo序列优化算法，\n",
    "        #首先外循环遍历第一个需要优化的样本\n",
    "        step = 0\n",
    "        paramtersChange= -1\n",
    "        while step<=self.iters and paramtersChange!=0:\n",
    "            paramtersChange=0\n",
    "            step+=1\n",
    "            with tqdm(total=self.trainData.shape[0]) as bar:\n",
    "                for i in range(self.trainData.shape[0]):\n",
    "                    bar.update(1)\n",
    "                # 寻找违反kkt条件的支持向量\n",
    "                    if self.isSatisfyKKT(i)!=True: ##不满足KKT条件即为第一个需要优化的点,书7.4.2\n",
    "                        alpha1_index = i\n",
    "                        E1=self.calEi(i)\n",
    "                        #寻找到第一个优化点后，在寻找第二个优化点时，需要是的abs(E1.E2)的值尽可能的大\n",
    "                        alpha2_index,E2 = self.findE2(E1)## 未经过剪裁的值\n",
    "\n",
    "                        ###更新alpha1 alpha2\n",
    "                        eta = self.Kij[alpha1_index][alpha1_index] + self.Kij[alpha2_index][alpha2_index] - 2*self.Kij[alpha1_index][alpha2_index]  \n",
    "                        alpha2_unc = self.AlphaJ[alpha2_index]+self.trainlabel[alpha2_index]*(E1-E2)/eta\n",
    "\n",
    "                        ## 计算取值范围\n",
    "                        y1=self.trainlabel[i]\n",
    "                        y2=self.trainlabel[alpha2_index]\n",
    "                        a1,a2 = self.AlphaJ[alpha1_index],self.AlphaJ[alpha2_index]\n",
    "\n",
    "                        L = max([0,a2-a1]) if y1!=y2 else max([0,a2+a1-self.C])\n",
    "                        H = min([self.C,a2-a1+self.C]) if y1!=y2 else min([self.C,a2+a1])\n",
    "                        if L==H:\n",
    "                            continue\n",
    "                        else:\n",
    "                            if alpha2_unc>H: alpha2_new=H\n",
    "                            elif L<=alpha2_unc<=H: alpha2_new = alpha2_unc\n",
    "                            elif alpha2_unc<L: alpha2_new =L\n",
    "                        alpha1_new = a1 + y1*y2*(a2-alpha2_new)\n",
    "                        ## 更新bias\n",
    "                        b1new = -E1 -y1*self.Kij[alpha1_index][alpha1_index]*(alpha1_new-a1)-y2*self.Kij[alpha2_index][alpha1_index]*(alpha2_new-a2)+self.bias\n",
    "                        b2new = -E2 -y1*self.Kij[alpha1_index][alpha2_index]*(alpha1_new-a1)-y2*self.Kij[alpha2_index][alpha2_index]*(alpha2_new-a2)+self.bias\n",
    "                        \n",
    "                        if 0<alpha1_new<self.C:\n",
    "                                bnew = b1new\n",
    "                        elif 0<alpha2_new<self.C:\n",
    "                                bnew = b2new\n",
    "                        else:\n",
    "                                bnew = (b1new+b2new)/2\n",
    "                        self.b = bnew\n",
    "                        self.AlphaJ[alpha1_index] = alpha1_new\n",
    "                        self.AlphaJ[alpha2_index] = alpha2_new\n",
    "                        if alpha2_new -a2>=0.0001:\n",
    "                            paramtersChange+=1\n",
    "                    if step<=3:\n",
    "                        bar.set_postfix({\"a\":self.AlphaJ,\"parameterChanges\":paramtersChange})\n",
    "                    else:\n",
    "                        bar.set_postfix({\"parameterChanges\":paramtersChange})\n",
    "        for i,alpha in enumerate(self.AlphaJ):\n",
    "            if alpha>0:\n",
    "                self.suportVector.append(i)\n",
    "    \n",
    "    \n",
    "    def predict(self, x):\n",
    "        result = 0\n",
    "        for i in self.suportVector:\n",
    "            #遍历所有支持向量，计算求和式\n",
    "            #如果是非支持向量，求和子式必为0，没有必须进行计算\n",
    "            #这也是为什么在SVM最后只有支持向量起作用\n",
    "            #------------------\n",
    "            #先单独将核函数计算出来\n",
    "            tmp = self.calGuassKernel(self.trainData[i].reshape(1,-1),x.reshape(1,-1))\n",
    "            #对每一项子式进行求和，最终计算得到求和项的值\n",
    "            result += self.AlphaJ[i] * self.trainlabel[i] * tmp\n",
    "        #求和项计算结束后加上偏置b\n",
    "        result += self.b\n",
    "        #使用sign函数返回预测结果\n",
    "        return np.sign(result)  ### sign函数,输出为1或-1"
   ]
  },
  {
   "cell_type": "code",
   "execution_count": 33,
   "id": "914668f3",
   "metadata": {
    "scrolled": false
   },
   "outputs": [
    {
     "name": "stderr",
     "output_type": "stream",
     "text": [
      "C:\\Users\\YGW\\AppData\\Local\\Temp/ipykernel_13364/761360924.py:21: TqdmDeprecationWarning: This function will be removed in tqdm==5.0.0\n",
      "Please use `tqdm.notebook.tqdm` instead of `tqdm.tqdm_notebook`\n",
      "  with tqdm(total=trainData.shape[0]) as bar:\n"
     ]
    },
    {
     "data": {
      "application/vnd.jupyter.widget-view+json": {
       "model_id": "7ce4bf4d66014eabb6098abba52ea6e2",
       "version_major": 2,
       "version_minor": 0
      },
      "text/plain": [
       "  0%|          | 0/1000 [00:00<?, ?it/s]"
      ]
     },
     "metadata": {},
     "output_type": "display_data"
    }
   ],
   "source": [
    "svm = SVM(trainData[:1000],trainlabel[:1000]) #计算高斯kernel矩阵"
   ]
  },
  {
   "cell_type": "code",
   "execution_count": null,
   "id": "39ac7fe4",
   "metadata": {
    "scrolled": true
   },
   "outputs": [
    {
     "name": "stderr",
     "output_type": "stream",
     "text": [
      "C:\\Users\\YGW\\AppData\\Local\\Temp/ipykernel_13364/761360924.py:71: TqdmDeprecationWarning: This function will be removed in tqdm==5.0.0\n",
      "Please use `tqdm.notebook.tqdm` instead of `tqdm.tqdm_notebook`\n",
      "  with tqdm(total=self.trainData.shape[0]) as bar:\n"
     ]
    },
    {
     "data": {
      "application/vnd.jupyter.widget-view+json": {
       "model_id": "ae9cd1c19ece484490b6bd3cbbb14c92",
       "version_major": 2,
       "version_minor": 0
      },
      "text/plain": [
       "  0%|          | 0/1000 [00:00<?, ?it/s]"
      ]
     },
     "metadata": {},
     "output_type": "display_data"
    },
    {
     "data": {
      "application/vnd.jupyter.widget-view+json": {
       "model_id": "64ae3e26199f4050b3ccb459018cc14c",
       "version_major": 2,
       "version_minor": 0
      },
      "text/plain": [
       "  0%|          | 0/1000 [00:00<?, ?it/s]"
      ]
     },
     "metadata": {},
     "output_type": "display_data"
    }
   ],
   "source": [
    "svm.train()"
   ]
  },
  {
   "cell_type": "code",
   "execution_count": null,
   "id": "21e3c8f2",
   "metadata": {},
   "outputs": [],
   "source": [
    "prelabel =np.zeros_like(testlabel)"
   ]
  },
  {
   "cell_type": "code",
   "execution_count": null,
   "id": "e253559a",
   "metadata": {},
   "outputs": [],
   "source": [
    "for i in tqdm(range(prelabel.shape[0])):\n",
    "    prelabel[i] = svm.predict(testData[i])\n",
    "acc = np.sum(prelabel==testlabel)/prelabel.shape[0] *100"
   ]
  },
  {
   "cell_type": "code",
   "execution_count": null,
   "id": "30353916",
   "metadata": {},
   "outputs": [],
   "source": [
    "print(f\"\\033[94m准确率:{acc}%\")"
   ]
  },
  {
   "cell_type": "code",
   "execution_count": null,
   "id": "f03f8271",
   "metadata": {},
   "outputs": [],
   "source": []
  }
 ],
 "metadata": {
  "kernelspec": {
   "display_name": "Python [conda env:pytorch]",
   "language": "python",
   "name": "conda-env-pytorch-py"
  },
  "language_info": {
   "codemirror_mode": {
    "name": "ipython",
    "version": 3
   },
   "file_extension": ".py",
   "mimetype": "text/x-python",
   "name": "python",
   "nbconvert_exporter": "python",
   "pygments_lexer": "ipython3",
   "version": "3.8.11"
  }
 },
 "nbformat": 4,
 "nbformat_minor": 5
}
